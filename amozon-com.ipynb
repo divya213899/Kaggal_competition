{
 "cells": [
  {
   "cell_type": "code",
   "execution_count": 1,
   "id": "ddb76167",
   "metadata": {
    "_cell_guid": "b1076dfc-b9ad-4769-8c92-a6c4dae69d19",
    "_uuid": "8f2839f25d086af736a60e9eeb907d3b93b6e0e5",
    "execution": {
     "iopub.execute_input": "2022-07-23T16:52:44.184225Z",
     "iopub.status.busy": "2022-07-23T16:52:44.183767Z",
     "iopub.status.idle": "2022-07-23T16:52:45.419875Z",
     "shell.execute_reply": "2022-07-23T16:52:45.418846Z"
    },
    "papermill": {
     "duration": 1.252553,
     "end_time": "2022-07-23T16:52:45.422587",
     "exception": false,
     "start_time": "2022-07-23T16:52:44.170034",
     "status": "completed"
    },
    "tags": []
   },
   "outputs": [],
   "source": [
    "\n",
    "import pandas as pd\n",
    "from matplotlib import pyplot as plt\n",
    "import numpy as np\n",
    "%matplotlib inline\n",
    "import seaborn as sns\n",
    "from sklearn import preprocessing\n"
   ]
  },
  {
   "cell_type": "code",
   "execution_count": 2,
   "id": "7e58a8ff",
   "metadata": {
    "execution": {
     "iopub.execute_input": "2022-07-23T16:52:45.445899Z",
     "iopub.status.busy": "2022-07-23T16:52:45.445521Z",
     "iopub.status.idle": "2022-07-23T16:52:45.748671Z",
     "shell.execute_reply": "2022-07-23T16:52:45.747662Z"
    },
    "papermill": {
     "duration": 0.3177,
     "end_time": "2022-07-23T16:52:45.751284",
     "exception": false,
     "start_time": "2022-07-23T16:52:45.433584",
     "status": "completed"
    },
    "tags": []
   },
   "outputs": [],
   "source": [
    "train=pd.read_csv(\"../input/amazon-employee-access-challenge/train.csv\")\n",
    "test=pd.read_csv(\"../input/amazon-employee-access-challenge/test.csv\")\n",
    "sample=pd.read_csv(\"../input/amazon-employee-access-challenge/sampleSubmission.csv\")"
   ]
  },
  {
   "cell_type": "code",
   "execution_count": 3,
   "id": "176d3d77",
   "metadata": {
    "execution": {
     "iopub.execute_input": "2022-07-23T16:52:45.774626Z",
     "iopub.status.busy": "2022-07-23T16:52:45.774191Z",
     "iopub.status.idle": "2022-07-23T16:52:45.788317Z",
     "shell.execute_reply": "2022-07-23T16:52:45.787433Z"
    },
    "papermill": {
     "duration": 0.028554,
     "end_time": "2022-07-23T16:52:45.790675",
     "exception": false,
     "start_time": "2022-07-23T16:52:45.762121",
     "status": "completed"
    },
    "tags": []
   },
   "outputs": [
    {
     "data": {
      "text/plain": [
       "ACTION              0\n",
       "RESOURCE            0\n",
       "MGR_ID              0\n",
       "ROLE_ROLLUP_1       0\n",
       "ROLE_ROLLUP_2       0\n",
       "ROLE_DEPTNAME       0\n",
       "ROLE_TITLE          0\n",
       "ROLE_FAMILY_DESC    0\n",
       "ROLE_FAMILY         0\n",
       "ROLE_CODE           0\n",
       "dtype: int64"
      ]
     },
     "execution_count": 3,
     "metadata": {},
     "output_type": "execute_result"
    }
   ],
   "source": [
    "train.isnull().sum() #nice!!!"
   ]
  },
  {
   "cell_type": "code",
   "execution_count": 4,
   "id": "84a5a1fe",
   "metadata": {
    "execution": {
     "iopub.execute_input": "2022-07-23T16:52:45.814769Z",
     "iopub.status.busy": "2022-07-23T16:52:45.813814Z",
     "iopub.status.idle": "2022-07-23T16:52:45.822840Z",
     "shell.execute_reply": "2022-07-23T16:52:45.821753Z"
    },
    "papermill": {
     "duration": 0.023343,
     "end_time": "2022-07-23T16:52:45.824793",
     "exception": false,
     "start_time": "2022-07-23T16:52:45.801450",
     "status": "completed"
    },
    "tags": []
   },
   "outputs": [
    {
     "data": {
      "text/plain": [
       "Id        0\n",
       "Action    0\n",
       "dtype: int64"
      ]
     },
     "execution_count": 4,
     "metadata": {},
     "output_type": "execute_result"
    }
   ],
   "source": [
    "sample.isnull().sum()"
   ]
  },
  {
   "cell_type": "code",
   "execution_count": 5,
   "id": "9c3324ca",
   "metadata": {
    "execution": {
     "iopub.execute_input": "2022-07-23T16:52:45.849542Z",
     "iopub.status.busy": "2022-07-23T16:52:45.848862Z",
     "iopub.status.idle": "2022-07-23T16:52:45.858734Z",
     "shell.execute_reply": "2022-07-23T16:52:45.857820Z"
    },
    "papermill": {
     "duration": 0.024301,
     "end_time": "2022-07-23T16:52:45.860930",
     "exception": false,
     "start_time": "2022-07-23T16:52:45.836629",
     "status": "completed"
    },
    "tags": []
   },
   "outputs": [
    {
     "data": {
      "text/plain": [
       "id                  0\n",
       "RESOURCE            0\n",
       "MGR_ID              0\n",
       "ROLE_ROLLUP_1       0\n",
       "ROLE_ROLLUP_2       0\n",
       "ROLE_DEPTNAME       0\n",
       "ROLE_TITLE          0\n",
       "ROLE_FAMILY_DESC    0\n",
       "ROLE_FAMILY         0\n",
       "ROLE_CODE           0\n",
       "dtype: int64"
      ]
     },
     "execution_count": 5,
     "metadata": {},
     "output_type": "execute_result"
    }
   ],
   "source": [
    "test.isnull().sum()"
   ]
  },
  {
   "cell_type": "code",
   "execution_count": 6,
   "id": "ee8ba5f0",
   "metadata": {
    "execution": {
     "iopub.execute_input": "2022-07-23T16:52:45.884981Z",
     "iopub.status.busy": "2022-07-23T16:52:45.884575Z",
     "iopub.status.idle": "2022-07-23T16:52:45.893312Z",
     "shell.execute_reply": "2022-07-23T16:52:45.892212Z"
    },
    "papermill": {
     "duration": 0.023671,
     "end_time": "2022-07-23T16:52:45.895622",
     "exception": false,
     "start_time": "2022-07-23T16:52:45.871951",
     "status": "completed"
    },
    "tags": []
   },
   "outputs": [
    {
     "data": {
      "text/plain": [
       "ACTION              int64\n",
       "RESOURCE            int64\n",
       "MGR_ID              int64\n",
       "ROLE_ROLLUP_1       int64\n",
       "ROLE_ROLLUP_2       int64\n",
       "ROLE_DEPTNAME       int64\n",
       "ROLE_TITLE          int64\n",
       "ROLE_FAMILY_DESC    int64\n",
       "ROLE_FAMILY         int64\n",
       "ROLE_CODE           int64\n",
       "dtype: object"
      ]
     },
     "execution_count": 6,
     "metadata": {},
     "output_type": "execute_result"
    }
   ],
   "source": [
    "train.dtypes"
   ]
  },
  {
   "cell_type": "code",
   "execution_count": 7,
   "id": "2b50b267",
   "metadata": {
    "execution": {
     "iopub.execute_input": "2022-07-23T16:52:45.919277Z",
     "iopub.status.busy": "2022-07-23T16:52:45.918904Z",
     "iopub.status.idle": "2022-07-23T16:52:45.943071Z",
     "shell.execute_reply": "2022-07-23T16:52:45.941894Z"
    },
    "papermill": {
     "duration": 0.038792,
     "end_time": "2022-07-23T16:52:45.945453",
     "exception": false,
     "start_time": "2022-07-23T16:52:45.906661",
     "status": "completed"
    },
    "tags": []
   },
   "outputs": [
    {
     "data": {
      "text/plain": [
       "0"
      ]
     },
     "execution_count": 7,
     "metadata": {},
     "output_type": "execute_result"
    }
   ],
   "source": [
    "train.duplicated().sum()"
   ]
  },
  {
   "cell_type": "markdown",
   "id": "68f32842",
   "metadata": {
    "execution": {
     "iopub.execute_input": "2022-07-22T11:06:21.605839Z",
     "iopub.status.busy": "2022-07-22T11:06:21.605485Z",
     "iopub.status.idle": "2022-07-22T11:06:21.612330Z",
     "shell.execute_reply": "2022-07-22T11:06:21.610746Z",
     "shell.execute_reply.started": "2022-07-22T11:06:21.605810Z"
    },
    "papermill": {
     "duration": 0.011588,
     "end_time": "2022-07-23T16:52:45.968605",
     "exception": false,
     "start_time": "2022-07-23T16:52:45.957017",
     "status": "completed"
    },
    "tags": []
   },
   "source": [
    "DATA ANALYSIS******************************"
   ]
  },
  {
   "cell_type": "markdown",
   "id": "138dc749",
   "metadata": {
    "papermill": {
     "duration": 0.011557,
     "end_time": "2022-07-23T16:52:45.991602",
     "exception": false,
     "start_time": "2022-07-23T16:52:45.980045",
     "status": "completed"
    },
    "tags": []
   },
   "source": []
  },
  {
   "cell_type": "code",
   "execution_count": 8,
   "id": "c6f3fb60",
   "metadata": {
    "execution": {
     "iopub.execute_input": "2022-07-23T16:52:46.016933Z",
     "iopub.status.busy": "2022-07-23T16:52:46.016359Z",
     "iopub.status.idle": "2022-07-23T16:52:46.022014Z",
     "shell.execute_reply": "2022-07-23T16:52:46.021146Z"
    },
    "papermill": {
     "duration": 0.020796,
     "end_time": "2022-07-23T16:52:46.024120",
     "exception": false,
     "start_time": "2022-07-23T16:52:46.003324",
     "status": "completed"
    },
    "tags": []
   },
   "outputs": [
    {
     "data": {
      "text/plain": [
       "Index(['ACTION', 'RESOURCE', 'MGR_ID', 'ROLE_ROLLUP_1', 'ROLE_ROLLUP_2',\n",
       "       'ROLE_DEPTNAME', 'ROLE_TITLE', 'ROLE_FAMILY_DESC', 'ROLE_FAMILY',\n",
       "       'ROLE_CODE'],\n",
       "      dtype='object')"
      ]
     },
     "execution_count": 8,
     "metadata": {},
     "output_type": "execute_result"
    }
   ],
   "source": [
    "train.columns"
   ]
  },
  {
   "cell_type": "code",
   "execution_count": 9,
   "id": "ec869897",
   "metadata": {
    "execution": {
     "iopub.execute_input": "2022-07-23T16:52:46.049639Z",
     "iopub.status.busy": "2022-07-23T16:52:46.049000Z",
     "iopub.status.idle": "2022-07-23T16:52:46.057852Z",
     "shell.execute_reply": "2022-07-23T16:52:46.056887Z"
    },
    "papermill": {
     "duration": 0.024065,
     "end_time": "2022-07-23T16:52:46.059937",
     "exception": false,
     "start_time": "2022-07-23T16:52:46.035872",
     "status": "completed"
    },
    "tags": []
   },
   "outputs": [
    {
     "data": {
      "text/plain": [
       "1    30872\n",
       "0     1897\n",
       "Name: ACTION, dtype: int64"
      ]
     },
     "execution_count": 9,
     "metadata": {},
     "output_type": "execute_result"
    }
   ],
   "source": [
    "train['ACTION'].value_counts()"
   ]
  },
  {
   "cell_type": "code",
   "execution_count": 10,
   "id": "8e653470",
   "metadata": {
    "execution": {
     "iopub.execute_input": "2022-07-23T16:52:46.085335Z",
     "iopub.status.busy": "2022-07-23T16:52:46.084628Z",
     "iopub.status.idle": "2022-07-23T16:52:46.100320Z",
     "shell.execute_reply": "2022-07-23T16:52:46.099212Z"
    },
    "papermill": {
     "duration": 0.031356,
     "end_time": "2022-07-23T16:52:46.102856",
     "exception": false,
     "start_time": "2022-07-23T16:52:46.071500",
     "status": "completed"
    },
    "tags": []
   },
   "outputs": [
    {
     "data": {
      "text/html": [
       "<div>\n",
       "<style scoped>\n",
       "    .dataframe tbody tr th:only-of-type {\n",
       "        vertical-align: middle;\n",
       "    }\n",
       "\n",
       "    .dataframe tbody tr th {\n",
       "        vertical-align: top;\n",
       "    }\n",
       "\n",
       "    .dataframe thead th {\n",
       "        text-align: right;\n",
       "    }\n",
       "</style>\n",
       "<table border=\"1\" class=\"dataframe\">\n",
       "  <thead>\n",
       "    <tr style=\"text-align: right;\">\n",
       "      <th></th>\n",
       "      <th>ACTION</th>\n",
       "      <th>RESOURCE</th>\n",
       "      <th>MGR_ID</th>\n",
       "      <th>ROLE_ROLLUP_1</th>\n",
       "      <th>ROLE_ROLLUP_2</th>\n",
       "      <th>ROLE_DEPTNAME</th>\n",
       "      <th>ROLE_TITLE</th>\n",
       "      <th>ROLE_FAMILY_DESC</th>\n",
       "      <th>ROLE_FAMILY</th>\n",
       "      <th>ROLE_CODE</th>\n",
       "    </tr>\n",
       "  </thead>\n",
       "  <tbody>\n",
       "    <tr>\n",
       "      <th>0</th>\n",
       "      <td>1</td>\n",
       "      <td>39353</td>\n",
       "      <td>85475</td>\n",
       "      <td>117961</td>\n",
       "      <td>118300</td>\n",
       "      <td>123472</td>\n",
       "      <td>117905</td>\n",
       "      <td>117906</td>\n",
       "      <td>290919</td>\n",
       "      <td>117908</td>\n",
       "    </tr>\n",
       "    <tr>\n",
       "      <th>1</th>\n",
       "      <td>1</td>\n",
       "      <td>17183</td>\n",
       "      <td>1540</td>\n",
       "      <td>117961</td>\n",
       "      <td>118343</td>\n",
       "      <td>123125</td>\n",
       "      <td>118536</td>\n",
       "      <td>118536</td>\n",
       "      <td>308574</td>\n",
       "      <td>118539</td>\n",
       "    </tr>\n",
       "    <tr>\n",
       "      <th>2</th>\n",
       "      <td>1</td>\n",
       "      <td>36724</td>\n",
       "      <td>14457</td>\n",
       "      <td>118219</td>\n",
       "      <td>118220</td>\n",
       "      <td>117884</td>\n",
       "      <td>117879</td>\n",
       "      <td>267952</td>\n",
       "      <td>19721</td>\n",
       "      <td>117880</td>\n",
       "    </tr>\n",
       "    <tr>\n",
       "      <th>3</th>\n",
       "      <td>1</td>\n",
       "      <td>36135</td>\n",
       "      <td>5396</td>\n",
       "      <td>117961</td>\n",
       "      <td>118343</td>\n",
       "      <td>119993</td>\n",
       "      <td>118321</td>\n",
       "      <td>240983</td>\n",
       "      <td>290919</td>\n",
       "      <td>118322</td>\n",
       "    </tr>\n",
       "    <tr>\n",
       "      <th>4</th>\n",
       "      <td>1</td>\n",
       "      <td>42680</td>\n",
       "      <td>5905</td>\n",
       "      <td>117929</td>\n",
       "      <td>117930</td>\n",
       "      <td>119569</td>\n",
       "      <td>119323</td>\n",
       "      <td>123932</td>\n",
       "      <td>19793</td>\n",
       "      <td>119325</td>\n",
       "    </tr>\n",
       "  </tbody>\n",
       "</table>\n",
       "</div>"
      ],
      "text/plain": [
       "   ACTION  RESOURCE  MGR_ID  ROLE_ROLLUP_1  ROLE_ROLLUP_2  ROLE_DEPTNAME  \\\n",
       "0       1     39353   85475         117961         118300         123472   \n",
       "1       1     17183    1540         117961         118343         123125   \n",
       "2       1     36724   14457         118219         118220         117884   \n",
       "3       1     36135    5396         117961         118343         119993   \n",
       "4       1     42680    5905         117929         117930         119569   \n",
       "\n",
       "   ROLE_TITLE  ROLE_FAMILY_DESC  ROLE_FAMILY  ROLE_CODE  \n",
       "0      117905            117906       290919     117908  \n",
       "1      118536            118536       308574     118539  \n",
       "2      117879            267952        19721     117880  \n",
       "3      118321            240983       290919     118322  \n",
       "4      119323            123932        19793     119325  "
      ]
     },
     "execution_count": 10,
     "metadata": {},
     "output_type": "execute_result"
    }
   ],
   "source": [
    "train.head()"
   ]
  },
  {
   "cell_type": "markdown",
   "id": "014e4099",
   "metadata": {
    "papermill": {
     "duration": 0.011467,
     "end_time": "2022-07-23T16:52:46.126149",
     "exception": false,
     "start_time": "2022-07-23T16:52:46.114682",
     "status": "completed"
    },
    "tags": []
   },
   "source": [
    " # *********DATA ANALYSIS***********"
   ]
  },
  {
   "cell_type": "code",
   "execution_count": 11,
   "id": "7d9b53b0",
   "metadata": {
    "execution": {
     "iopub.execute_input": "2022-07-23T16:52:46.151125Z",
     "iopub.status.busy": "2022-07-23T16:52:46.150716Z",
     "iopub.status.idle": "2022-07-23T16:52:46.612959Z",
     "shell.execute_reply": "2022-07-23T16:52:46.611805Z"
    },
    "papermill": {
     "duration": 0.477444,
     "end_time": "2022-07-23T16:52:46.615263",
     "exception": false,
     "start_time": "2022-07-23T16:52:46.137819",
     "status": "completed"
    },
    "tags": []
   },
   "outputs": [
    {
     "name": "stderr",
     "output_type": "stream",
     "text": [
      "/opt/conda/lib/python3.7/site-packages/seaborn/_decorators.py:43: FutureWarning: Pass the following variables as keyword args: x, y. From version 0.12, the only valid positional argument will be `data`, and passing other arguments without an explicit keyword will result in an error or misinterpretation.\n",
      "  FutureWarning\n"
     ]
    },
    {
     "data": {
      "text/plain": [
       "<seaborn.axisgrid.FacetGrid at 0x7f330e583c10>"
      ]
     },
     "execution_count": 11,
     "metadata": {},
     "output_type": "execute_result"
    },
    {
     "data": {
      "text/plain": [
       "<Figure size 648x432 with 0 Axes>"
      ]
     },
     "metadata": {},
     "output_type": "display_data"
    },
    {
     "data": {
      "image/png": "[encoded data removed]",
      "text/plain": [
       "<Figure size 360x360 with 1 Axes>"
      ]
     },
     "metadata": {
      "needs_background": "light"
     },
     "output_type": "display_data"
    }
   ],
   "source": [
    "plt.figure(figsize=(9, 6))\n",
    "sns.catplot('ACTION', 'ROLE_CODE', data=train)"
   ]
  },
  {
   "cell_type": "code",
   "execution_count": 12,
   "id": "849afe2a",
   "metadata": {
    "execution": {
     "iopub.execute_input": "2022-07-23T16:52:46.642863Z",
     "iopub.status.busy": "2022-07-23T16:52:46.641931Z",
     "iopub.status.idle": "2022-07-23T16:52:47.000730Z",
     "shell.execute_reply": "2022-07-23T16:52:46.999397Z"
    },
    "papermill": {
     "duration": 0.375606,
     "end_time": "2022-07-23T16:52:47.003646",
     "exception": false,
     "start_time": "2022-07-23T16:52:46.628040",
     "status": "completed"
    },
    "tags": []
   },
   "outputs": [
    {
     "name": "stderr",
     "output_type": "stream",
     "text": [
      "/opt/conda/lib/python3.7/site-packages/seaborn/_decorators.py:43: FutureWarning: Pass the following variables as keyword args: x, y. From version 0.12, the only valid positional argument will be `data`, and passing other arguments without an explicit keyword will result in an error or misinterpretation.\n",
      "  FutureWarning\n"
     ]
    },
    {
     "data": {
      "text/plain": [
       "<seaborn.axisgrid.FacetGrid at 0x7f330b9b4510>"
      ]
     },
     "execution_count": 12,
     "metadata": {},
     "output_type": "execute_result"
    },
    {
     "data": {
      "text/plain": [
       "<Figure size 648x432 with 0 Axes>"
      ]
     },
     "metadata": {},
     "output_type": "display_data"
    },
    {
     "data": {
      "image/png": "[encoded data removed]",
      "text/plain": [
       "<Figure size 360x360 with 1 Axes>"
      ]
     },
     "metadata": {
      "needs_background": "light"
     },
     "output_type": "display_data"
    }
   ],
   "source": [
    "plt.figure(figsize=(9, 6))\n",
    "sns.catplot('ACTION', 'MGR_ID', data=train)"
   ]
  },
  {
   "cell_type": "code",
   "execution_count": 13,
   "id": "cd2b38ac",
   "metadata": {
    "execution": {
     "iopub.execute_input": "2022-07-23T16:52:47.032740Z",
     "iopub.status.busy": "2022-07-23T16:52:47.031721Z",
     "iopub.status.idle": "2022-07-23T16:52:47.378448Z",
     "shell.execute_reply": "2022-07-23T16:52:47.377555Z"
    },
    "papermill": {
     "duration": 0.36367,
     "end_time": "2022-07-23T16:52:47.380717",
     "exception": false,
     "start_time": "2022-07-23T16:52:47.017047",
     "status": "completed"
    },
    "tags": []
   },
   "outputs": [
    {
     "name": "stderr",
     "output_type": "stream",
     "text": [
      "/opt/conda/lib/python3.7/site-packages/seaborn/_decorators.py:43: FutureWarning: Pass the following variables as keyword args: x, y. From version 0.12, the only valid positional argument will be `data`, and passing other arguments without an explicit keyword will result in an error or misinterpretation.\n",
      "  FutureWarning\n"
     ]
    },
    {
     "data": {
      "text/plain": [
       "<seaborn.axisgrid.FacetGrid at 0x7f330b9944d0>"
      ]
     },
     "execution_count": 13,
     "metadata": {},
     "output_type": "execute_result"
    },
    {
     "data": {
      "text/plain": [
       "<Figure size 648x432 with 0 Axes>"
      ]
     },
     "metadata": {},
     "output_type": "display_data"
    },
    {
     "data": {
      "image/png": "[encoded data removed]",
      "text/plain": [
       "<Figure size 360x360 with 1 Axes>"
      ]
     },
     "metadata": {
      "needs_background": "light"
     },
     "output_type": "display_data"
    }
   ],
   "source": [
    "plt.figure(figsize=(9, 6))\n",
    "sns.catplot('ACTION', 'ROLE_ROLLUP_1', data=train)"
   ]
  },
  {
   "cell_type": "code",
   "execution_count": 14,
   "id": "a45a2636",
   "metadata": {
    "execution": {
     "iopub.execute_input": "2022-07-23T16:52:47.410626Z",
     "iopub.status.busy": "2022-07-23T16:52:47.409984Z",
     "iopub.status.idle": "2022-07-23T16:52:47.775946Z",
     "shell.execute_reply": "2022-07-23T16:52:47.774712Z"
    },
    "papermill": {
     "duration": 0.384094,
     "end_time": "2022-07-23T16:52:47.778668",
     "exception": false,
     "start_time": "2022-07-23T16:52:47.394574",
     "status": "completed"
    },
    "tags": []
   },
   "outputs": [
    {
     "name": "stderr",
     "output_type": "stream",
     "text": [
      "/opt/conda/lib/python3.7/site-packages/seaborn/_decorators.py:43: FutureWarning: Pass the following variables as keyword args: x, y. From version 0.12, the only valid positional argument will be `data`, and passing other arguments without an explicit keyword will result in an error or misinterpretation.\n",
      "  FutureWarning\n"
     ]
    },
    {
     "data": {
      "text/plain": [
       "<seaborn.axisgrid.FacetGrid at 0x7f330b9162d0>"
      ]
     },
     "execution_count": 14,
     "metadata": {},
     "output_type": "execute_result"
    },
    {
     "data": {
      "text/plain": [
       "<Figure size 648x432 with 0 Axes>"
      ]
     },
     "metadata": {},
     "output_type": "display_data"
    },
    {
     "data": {
      "image/png": "[encoded data removed]",
      "text/plain": [
       "<Figure size 360x360 with 1 Axes>"
      ]
     },
     "metadata": {
      "needs_background": "light"
     },
     "output_type": "display_data"
    }
   ],
   "source": [
    "plt.figure(figsize=(9, 6))\n",
    "sns.catplot('ACTION', 'ROLE_ROLLUP_2', data=train)"
   ]
  },
  {
   "cell_type": "code",
   "execution_count": 15,
   "id": "132a6ab5",
   "metadata": {
    "execution": {
     "iopub.execute_input": "2022-07-23T16:52:47.810082Z",
     "iopub.status.busy": "2022-07-23T16:52:47.809693Z",
     "iopub.status.idle": "2022-07-23T16:52:48.068325Z",
     "shell.execute_reply": "2022-07-23T16:52:48.067134Z"
    },
    "papermill": {
     "duration": 0.277521,
     "end_time": "2022-07-23T16:52:48.070935",
     "exception": false,
     "start_time": "2022-07-23T16:52:47.793414",
     "status": "completed"
    },
    "tags": []
   },
   "outputs": [
    {
     "data": {
      "text/plain": [
       "<matplotlib.legend.Legend at 0x7f330b748790>"
      ]
     },
     "execution_count": 15,
     "metadata": {},
     "output_type": "execute_result"
    },
    {
     "data": {
      "image/png": "[encoded data removed]",
      "text/plain": [
       "<Figure size 432x288 with 1 Axes>"
      ]
     },
     "metadata": {
      "needs_background": "light"
     },
     "output_type": "display_data"
    }
   ],
   "source": [
    "action_no = train[train.ACTION==0].RESOURCE          \n",
    "action_yes = train[train.ACTION==1].RESOURCE      \n",
    "\n",
    "plt.xlabel(\"Resorces \")\n",
    "plt.ylabel(\"Number Of employees with access granted\")\n",
    "\n",
    "\n",
    "\n",
    "\n",
    "plt.hist([action_yes, action_no], rwidth=0.95, color=['green','red'],label=['Action=Yes','Action=No'])\n",
    "plt.legend()"
   ]
  },
  {
   "cell_type": "code",
   "execution_count": 16,
   "id": "bdd666d1",
   "metadata": {
    "execution": {
     "iopub.execute_input": "2022-07-23T16:52:48.103680Z",
     "iopub.status.busy": "2022-07-23T16:52:48.103238Z",
     "iopub.status.idle": "2022-07-23T16:52:50.836996Z",
     "shell.execute_reply": "2022-07-23T16:52:50.835792Z"
    },
    "papermill": {
     "duration": 2.753787,
     "end_time": "2022-07-23T16:52:50.839694",
     "exception": false,
     "start_time": "2022-07-23T16:52:48.085907",
     "status": "completed"
    },
    "tags": []
   },
   "outputs": [
    {
     "name": "stderr",
     "output_type": "stream",
     "text": [
      "/opt/conda/lib/python3.7/site-packages/seaborn/distributions.py:2619: FutureWarning: `distplot` is a deprecated function and will be removed in a future version. Please adapt your code to use either `displot` (a figure-level function with similar flexibility) or `kdeplot` (an axes-level function for kernel density plots).\n",
      "  warnings.warn(msg, FutureWarning)\n",
      "/opt/conda/lib/python3.7/site-packages/seaborn/distributions.py:2619: FutureWarning: `distplot` is a deprecated function and will be removed in a future version. Please adapt your code to use either `displot` (a figure-level function with similar flexibility) or `kdeplot` (an axes-level function for kernel density plots).\n",
      "  warnings.warn(msg, FutureWarning)\n",
      "/opt/conda/lib/python3.7/site-packages/seaborn/distributions.py:2619: FutureWarning: `distplot` is a deprecated function and will be removed in a future version. Please adapt your code to use either `displot` (a figure-level function with similar flexibility) or `kdeplot` (an axes-level function for kernel density plots).\n",
      "  warnings.warn(msg, FutureWarning)\n",
      "/opt/conda/lib/python3.7/site-packages/seaborn/distributions.py:2619: FutureWarning: `distplot` is a deprecated function and will be removed in a future version. Please adapt your code to use either `displot` (a figure-level function with similar flexibility) or `kdeplot` (an axes-level function for kernel density plots).\n",
      "  warnings.warn(msg, FutureWarning)\n",
      "/opt/conda/lib/python3.7/site-packages/seaborn/distributions.py:2619: FutureWarning: `distplot` is a deprecated function and will be removed in a future version. Please adapt your code to use either `displot` (a figure-level function with similar flexibility) or `kdeplot` (an axes-level function for kernel density plots).\n",
      "  warnings.warn(msg, FutureWarning)\n",
      "/opt/conda/lib/python3.7/site-packages/seaborn/distributions.py:2619: FutureWarning: `distplot` is a deprecated function and will be removed in a future version. Please adapt your code to use either `displot` (a figure-level function with similar flexibility) or `kdeplot` (an axes-level function for kernel density plots).\n",
      "  warnings.warn(msg, FutureWarning)\n",
      "/opt/conda/lib/python3.7/site-packages/seaborn/distributions.py:2619: FutureWarning: `distplot` is a deprecated function and will be removed in a future version. Please adapt your code to use either `displot` (a figure-level function with similar flexibility) or `kdeplot` (an axes-level function for kernel density plots).\n",
      "  warnings.warn(msg, FutureWarning)\n",
      "/opt/conda/lib/python3.7/site-packages/seaborn/distributions.py:2619: FutureWarning: `distplot` is a deprecated function and will be removed in a future version. Please adapt your code to use either `displot` (a figure-level function with similar flexibility) or `kdeplot` (an axes-level function for kernel density plots).\n",
      "  warnings.warn(msg, FutureWarning)\n",
      "/opt/conda/lib/python3.7/site-packages/seaborn/distributions.py:2619: FutureWarning: `distplot` is a deprecated function and will be removed in a future version. Please adapt your code to use either `displot` (a figure-level function with similar flexibility) or `kdeplot` (an axes-level function for kernel density plots).\n",
      "  warnings.warn(msg, FutureWarning)\n"
     ]
    },
    {
     "data": {
      "text/plain": [
       "[Text(0, 0.5, 'Probability')]"
      ]
     },
     "execution_count": 16,
     "metadata": {},
     "output_type": "execute_result"
    },
    {
     "data": {
      "image/png": "[encoded data removed]",
      "text/plain": [
       "<Figure size 720x720 with 9 Axes>"
      ]
     },
     "metadata": {
      "needs_background": "light"
     },
     "output_type": "display_data"
    }
   ],
   "source": [
    "f, axes = plt.subplots(3,3, figsize=(10,10), sharex=True)\n",
    "sns.despine(left=True)\n",
    "\n",
    "ax = sns.distplot(train['RESOURCE'], hist=False, color=\"b\", ax=axes[0, 0])\n",
    "ax.set(ylabel='Probability')\n",
    "ax = sns.distplot(train['MGR_ID'], hist=False, color=\"g\", ax=axes[0, 1])\n",
    "ax.set(ylabel='Probability')\n",
    "ax = sns.distplot(train['ROLE_ROLLUP_1'], hist=False, color=\"r\", ax=axes[0, 2])\n",
    "ax.set(ylabel='Probability')\n",
    "ax = sns.distplot(train['ROLE_ROLLUP_2'], hist=False, color=\"y\", ax=axes[1, 0])\n",
    "ax.set(ylabel='Probability')\n",
    "ax = sns.distplot(train['ROLE_DEPTNAME'], hist=False, color=\"brown\", ax=axes[1, 1])\n",
    "ax.set(ylabel='Probability')\n",
    "ax = sns.distplot(train['ROLE_TITLE'], hist=False, color=\"k\", ax=axes[1, 2])\n",
    "ax.set(ylabel='Probability')\n",
    "ax = sns.distplot(train['ROLE_FAMILY_DESC'], hist=False, color=\"grey\", ax=axes[2, 0])\n",
    "ax.set(ylabel='Probability')\n",
    "ax = sns.distplot(train['ROLE_FAMILY'], hist=False, color=\"m\", ax=axes[2, 1])\n",
    "ax.set(ylabel='Probability')\n",
    "ax = sns.distplot(train['ROLE_CODE'], hist=False, color=\"c\", ax=axes[2, 2])\n",
    "ax.set(ylabel='Probability')"
   ]
  },
  {
   "cell_type": "code",
   "execution_count": 17,
   "id": "7780382c",
   "metadata": {
    "execution": {
     "iopub.execute_input": "2022-07-23T16:52:50.874669Z",
     "iopub.status.busy": "2022-07-23T16:52:50.874043Z",
     "iopub.status.idle": "2022-07-23T16:52:51.080842Z",
     "shell.execute_reply": "2022-07-23T16:52:51.079607Z"
    },
    "papermill": {
     "duration": 0.227789,
     "end_time": "2022-07-23T16:52:51.084043",
     "exception": false,
     "start_time": "2022-07-23T16:52:50.856254",
     "status": "completed"
    },
    "tags": []
   },
   "outputs": [
    {
     "data": {
      "text/plain": [
       "<matplotlib.legend.Legend at 0x7f33032c5990>"
      ]
     },
     "execution_count": 17,
     "metadata": {},
     "output_type": "execute_result"
    },
    {
     "data": {
      "image/png": "[encoded data removed]",
      "text/plain": [
       "<Figure size 432x288 with 1 Axes>"
      ]
     },
     "metadata": {
      "needs_background": "light"
     },
     "output_type": "display_data"
    }
   ],
   "source": [
    "action_no = train[train.ACTION==0].MGR_ID          \n",
    "action_yes = train[train.ACTION==1].MGR_ID   \n",
    "\n",
    "plt.xlabel(\"Manager  ID\")\n",
    "plt.ylabel(\"Number Of employees with access granted\")\n",
    "\n",
    "\n",
    "\n",
    "\n",
    "plt.hist([action_yes, action_no], rwidth=0.95, color=['green','red'],label=['Action=Yes','Action=No'])\n",
    "plt.legend()"
   ]
  },
  {
   "cell_type": "code",
   "execution_count": 18,
   "id": "80911fe7",
   "metadata": {
    "execution": {
     "iopub.execute_input": "2022-07-23T16:52:51.121542Z",
     "iopub.status.busy": "2022-07-23T16:52:51.121131Z",
     "iopub.status.idle": "2022-07-23T16:52:51.960339Z",
     "shell.execute_reply": "2022-07-23T16:52:51.959520Z"
    },
    "papermill": {
     "duration": 0.860215,
     "end_time": "2022-07-23T16:52:51.962825",
     "exception": false,
     "start_time": "2022-07-23T16:52:51.102610",
     "status": "completed"
    },
    "tags": []
   },
   "outputs": [
    {
     "data": {
      "image/png": "[encoded data removed]",
      "text/plain": [
       "<Figure size 936x504 with 2 Axes>"
      ]
     },
     "metadata": {
      "needs_background": "light"
     },
     "output_type": "display_data"
    }
   ],
   "source": [
    "plt.figure(figsize=(13,7))\n",
    "sns.heatmap(train.corr(),annot=True,cmap='viridis',linewidth=1);"
   ]
  },
  {
   "cell_type": "markdown",
   "id": "96542867",
   "metadata": {
    "execution": {
     "iopub.execute_input": "2022-07-23T15:21:00.227194Z",
     "iopub.status.busy": "2022-07-23T15:21:00.226783Z",
     "iopub.status.idle": "2022-07-23T15:21:00.234749Z",
     "shell.execute_reply": "2022-07-23T15:21:00.233545Z",
     "shell.execute_reply.started": "2022-07-23T15:21:00.227160Z"
    },
    "papermill": {
     "duration": 0.018117,
     "end_time": "2022-07-23T16:52:51.999398",
     "exception": false,
     "start_time": "2022-07-23T16:52:51.981281",
     "status": "completed"
    },
    "tags": []
   },
   "source": [
    "y_train=train\n",
    "Y_train=y_train.drop(['RESOURCE','MGR_ID','ROLE_ROLLUP_1','ROLE_ROLLUP_2','ROLE_DEPTNAME',\"ROLE_TITLE\",\"ROLE_FAMILY_DESC\",\"ROLE_FAMILY\",\"ROLE_CODE\"],axis=1)"
   ]
  },
  {
   "cell_type": "code",
   "execution_count": 19,
   "id": "387337c9",
   "metadata": {
    "execution": {
     "iopub.execute_input": "2022-07-23T16:52:52.038134Z",
     "iopub.status.busy": "2022-07-23T16:52:52.037177Z",
     "iopub.status.idle": "2022-07-23T16:52:52.050500Z",
     "shell.execute_reply": "2022-07-23T16:52:52.049344Z"
    },
    "papermill": {
     "duration": 0.035226,
     "end_time": "2022-07-23T16:52:52.052891",
     "exception": false,
     "start_time": "2022-07-23T16:52:52.017665",
     "status": "completed"
    },
    "tags": []
   },
   "outputs": [
    {
     "data": {
      "text/html": [
       "<div>\n",
       "<style scoped>\n",
       "    .dataframe tbody tr th:only-of-type {\n",
       "        vertical-align: middle;\n",
       "    }\n",
       "\n",
       "    .dataframe tbody tr th {\n",
       "        vertical-align: top;\n",
       "    }\n",
       "\n",
       "    .dataframe thead th {\n",
       "        text-align: right;\n",
       "    }\n",
       "</style>\n",
       "<table border=\"1\" class=\"dataframe\">\n",
       "  <thead>\n",
       "    <tr style=\"text-align: right;\">\n",
       "      <th></th>\n",
       "      <th>ACTION</th>\n",
       "      <th>RESOURCE</th>\n",
       "      <th>MGR_ID</th>\n",
       "      <th>ROLE_ROLLUP_1</th>\n",
       "      <th>ROLE_ROLLUP_2</th>\n",
       "      <th>ROLE_DEPTNAME</th>\n",
       "      <th>ROLE_TITLE</th>\n",
       "      <th>ROLE_FAMILY_DESC</th>\n",
       "      <th>ROLE_FAMILY</th>\n",
       "      <th>ROLE_CODE</th>\n",
       "    </tr>\n",
       "  </thead>\n",
       "  <tbody>\n",
       "    <tr>\n",
       "      <th>0</th>\n",
       "      <td>1</td>\n",
       "      <td>39353</td>\n",
       "      <td>85475</td>\n",
       "      <td>117961</td>\n",
       "      <td>118300</td>\n",
       "      <td>123472</td>\n",
       "      <td>117905</td>\n",
       "      <td>117906</td>\n",
       "      <td>290919</td>\n",
       "      <td>117908</td>\n",
       "    </tr>\n",
       "    <tr>\n",
       "      <th>1</th>\n",
       "      <td>1</td>\n",
       "      <td>17183</td>\n",
       "      <td>1540</td>\n",
       "      <td>117961</td>\n",
       "      <td>118343</td>\n",
       "      <td>123125</td>\n",
       "      <td>118536</td>\n",
       "      <td>118536</td>\n",
       "      <td>308574</td>\n",
       "      <td>118539</td>\n",
       "    </tr>\n",
       "    <tr>\n",
       "      <th>2</th>\n",
       "      <td>1</td>\n",
       "      <td>36724</td>\n",
       "      <td>14457</td>\n",
       "      <td>118219</td>\n",
       "      <td>118220</td>\n",
       "      <td>117884</td>\n",
       "      <td>117879</td>\n",
       "      <td>267952</td>\n",
       "      <td>19721</td>\n",
       "      <td>117880</td>\n",
       "    </tr>\n",
       "    <tr>\n",
       "      <th>3</th>\n",
       "      <td>1</td>\n",
       "      <td>36135</td>\n",
       "      <td>5396</td>\n",
       "      <td>117961</td>\n",
       "      <td>118343</td>\n",
       "      <td>119993</td>\n",
       "      <td>118321</td>\n",
       "      <td>240983</td>\n",
       "      <td>290919</td>\n",
       "      <td>118322</td>\n",
       "    </tr>\n",
       "    <tr>\n",
       "      <th>4</th>\n",
       "      <td>1</td>\n",
       "      <td>42680</td>\n",
       "      <td>5905</td>\n",
       "      <td>117929</td>\n",
       "      <td>117930</td>\n",
       "      <td>119569</td>\n",
       "      <td>119323</td>\n",
       "      <td>123932</td>\n",
       "      <td>19793</td>\n",
       "      <td>119325</td>\n",
       "    </tr>\n",
       "  </tbody>\n",
       "</table>\n",
       "</div>"
      ],
      "text/plain": [
       "   ACTION  RESOURCE  MGR_ID  ROLE_ROLLUP_1  ROLE_ROLLUP_2  ROLE_DEPTNAME  \\\n",
       "0       1     39353   85475         117961         118300         123472   \n",
       "1       1     17183    1540         117961         118343         123125   \n",
       "2       1     36724   14457         118219         118220         117884   \n",
       "3       1     36135    5396         117961         118343         119993   \n",
       "4       1     42680    5905         117929         117930         119569   \n",
       "\n",
       "   ROLE_TITLE  ROLE_FAMILY_DESC  ROLE_FAMILY  ROLE_CODE  \n",
       "0      117905            117906       290919     117908  \n",
       "1      118536            118536       308574     118539  \n",
       "2      117879            267952        19721     117880  \n",
       "3      118321            240983       290919     118322  \n",
       "4      119323            123932        19793     119325  "
      ]
     },
     "execution_count": 19,
     "metadata": {},
     "output_type": "execute_result"
    }
   ],
   "source": [
    "train.head()"
   ]
  },
  {
   "cell_type": "markdown",
   "id": "5f90c588",
   "metadata": {
    "execution": {
     "iopub.execute_input": "2022-07-23T15:21:17.795704Z",
     "iopub.status.busy": "2022-07-23T15:21:17.794547Z",
     "iopub.status.idle": "2022-07-23T15:21:17.894847Z",
     "shell.execute_reply": "2022-07-23T15:21:17.893491Z",
     "shell.execute_reply.started": "2022-07-23T15:21:17.795642Z"
    },
    "papermill": {
     "duration": 0.017996,
     "end_time": "2022-07-23T16:52:52.089029",
     "exception": false,
     "start_time": "2022-07-23T16:52:52.071033",
     "status": "completed"
    },
    "tags": []
   },
   "source": [
    "cols_to_scale = ['RESOURCE','MGR_ID','ROLE_ROLLUP_1','ROLE_ROLLUP_2','ROLE_DEPTNAME',\"ROLE_TITLE\",\"ROLE_FAMILY_DESC\",\"ROLE_FAMILY\",\"ROLE_CODE\"]\n",
    "\n",
    "from sklearn.preprocessing import MinMaxScaler\n",
    "scaler = MinMaxScaler()\n",
    "train[cols_to_scale] = scaler.fit_transform(train[cols_to_scale])"
   ]
  },
  {
   "cell_type": "markdown",
   "id": "b872a1e9",
   "metadata": {
    "execution": {
     "iopub.execute_input": "2022-07-23T15:21:25.284647Z",
     "iopub.status.busy": "2022-07-23T15:21:25.284223Z",
     "iopub.status.idle": "2022-07-23T15:21:25.312991Z",
     "shell.execute_reply": "2022-07-23T15:21:25.311833Z",
     "shell.execute_reply.started": "2022-07-23T15:21:25.284608Z"
    },
    "papermill": {
     "duration": 0.017717,
     "end_time": "2022-07-23T16:52:52.124992",
     "exception": false,
     "start_time": "2022-07-23T16:52:52.107275",
     "status": "completed"
    },
    "tags": []
   },
   "source": [
    "train=pd.get_dummies(data=train,columns=[  'ROLE_ROLLUP_1', 'ROLE_ROLLUP_2',\n",
    "       'ROLE_DEPTNAME', 'ROLE_TITLE', 'ROLE_FAMILY_DESC', 'ROLE_FAMILY',\n",
    "       'ROLE_CODE'])"
   ]
  },
  {
   "cell_type": "markdown",
   "id": "f48c1e7a",
   "metadata": {
    "execution": {
     "iopub.execute_input": "2022-07-23T15:21:29.479054Z",
     "iopub.status.busy": "2022-07-23T15:21:29.478661Z",
     "iopub.status.idle": "2022-07-23T15:21:31.214212Z",
     "shell.execute_reply": "2022-07-23T15:21:31.213027Z",
     "shell.execute_reply.started": "2022-07-23T15:21:29.479022Z"
    },
    "papermill": {
     "duration": 0.017962,
     "end_time": "2022-07-23T16:52:52.161090",
     "exception": false,
     "start_time": "2022-07-23T16:52:52.143128",
     "status": "completed"
    },
    "tags": []
   },
   "source": [
    "for col in train:\n",
    "    print(f'{col}: {train[col].unique()}')"
   ]
  },
  {
   "cell_type": "markdown",
   "id": "79c76a73",
   "metadata": {
    "papermill": {
     "duration": 0.017967,
     "end_time": "2022-07-23T16:52:52.197118",
     "exception": false,
     "start_time": "2022-07-23T16:52:52.179151",
     "status": "completed"
    },
    "tags": []
   },
   "source": [
    "**MODELLING**"
   ]
  },
  {
   "cell_type": "code",
   "execution_count": 20,
   "id": "5c24e275",
   "metadata": {
    "execution": {
     "iopub.execute_input": "2022-07-23T16:52:52.235528Z",
     "iopub.status.busy": "2022-07-23T16:52:52.234708Z",
     "iopub.status.idle": "2022-07-23T16:52:52.245953Z",
     "shell.execute_reply": "2022-07-23T16:52:52.244973Z"
    },
    "papermill": {
     "duration": 0.033201,
     "end_time": "2022-07-23T16:52:52.248376",
     "exception": false,
     "start_time": "2022-07-23T16:52:52.215175",
     "status": "completed"
    },
    "tags": []
   },
   "outputs": [],
   "source": [
    "y = train['ACTION']\n",
    "X= train.drop('ACTION', axis=1)\n",
    "X_test = test.drop('id',axis=1)\n"
   ]
  },
  {
   "cell_type": "code",
   "execution_count": 21,
   "id": "96e43536",
   "metadata": {
    "execution": {
     "iopub.execute_input": "2022-07-23T16:52:52.287549Z",
     "iopub.status.busy": "2022-07-23T16:52:52.286772Z",
     "iopub.status.idle": "2022-07-23T16:52:52.356621Z",
     "shell.execute_reply": "2022-07-23T16:52:52.355670Z"
    },
    "papermill": {
     "duration": 0.092346,
     "end_time": "2022-07-23T16:52:52.359231",
     "exception": false,
     "start_time": "2022-07-23T16:52:52.266885",
     "status": "completed"
    },
    "tags": []
   },
   "outputs": [],
   "source": [
    "from sklearn.model_selection import train_test_split\n",
    "\n",
    "X_train, X_valid, y_train, y_valid = train_test_split(X, y, test_size=0.25, random_state=1) "
   ]
  },
  {
   "cell_type": "code",
   "execution_count": 22,
   "id": "a7374ad9",
   "metadata": {
    "execution": {
     "iopub.execute_input": "2022-07-23T16:52:52.397949Z",
     "iopub.status.busy": "2022-07-23T16:52:52.397117Z",
     "iopub.status.idle": "2022-07-23T16:52:52.742214Z",
     "shell.execute_reply": "2022-07-23T16:52:52.741258Z"
    },
    "papermill": {
     "duration": 0.367495,
     "end_time": "2022-07-23T16:52:52.744931",
     "exception": false,
     "start_time": "2022-07-23T16:52:52.377436",
     "status": "completed"
    },
    "tags": []
   },
   "outputs": [],
   "source": [
    "from catboost import CatBoostClassifier, Pool"
   ]
  },
  {
   "cell_type": "code",
   "execution_count": 23,
   "id": "7fde9eba",
   "metadata": {
    "execution": {
     "iopub.execute_input": "2022-07-23T16:52:52.783841Z",
     "iopub.status.busy": "2022-07-23T16:52:52.783452Z",
     "iopub.status.idle": "2022-07-23T16:53:00.061070Z",
     "shell.execute_reply": "2022-07-23T16:53:00.059543Z"
    },
    "papermill": {
     "duration": 7.300358,
     "end_time": "2022-07-23T16:53:00.063496",
     "exception": false,
     "start_time": "2022-07-23T16:52:52.763138",
     "status": "completed"
    },
    "tags": []
   },
   "outputs": [
    {
     "name": "stdout",
     "output_type": "stream",
     "text": [
      "Learning rate set to 0.069882\n",
      "0:\ttest: 0.5400959\tbest: 0.5400959 (0)\ttotal: 60.3ms\tremaining: 1m\n",
      "200:\ttest: 0.8020842\tbest: 0.8020842 (200)\ttotal: 1.4s\tremaining: 5.55s\n",
      "400:\ttest: 0.8237941\tbest: 0.8237941 (400)\ttotal: 2.75s\tremaining: 4.11s\n",
      "600:\ttest: 0.8328464\tbest: 0.8330283 (598)\ttotal: 4.22s\tremaining: 2.8s\n",
      "800:\ttest: 0.8366271\tbest: 0.8370599 (785)\ttotal: 5.67s\tremaining: 1.41s\n",
      "999:\ttest: 0.8417832\tbest: 0.8417832 (999)\ttotal: 7.02s\tremaining: 0us\n",
      "\n",
      "bestTest = 0.8417831567\n",
      "bestIteration = 999\n",
      "\n",
      "CPU times: user 22.3 s, sys: 2.69 s, total: 25 s\n",
      "Wall time: 7.27 s\n"
     ]
    },
    {
     "data": {
      "text/plain": [
       "<catboost.core.CatBoostClassifier at 0x7f3300e21950>"
      ]
     },
     "execution_count": 23,
     "metadata": {},
     "output_type": "execute_result"
    }
   ],
   "source": [
    "%%time\n",
    "\n",
    "params = {'loss_function':'Logloss',\n",
    "          'eval_metric':'AUC',\n",
    "          'verbose':200,\n",
    "          'random_seed':1}\n",
    "catmodel_1 = CatBoostClassifier(**params)\n",
    "catmodel_1.fit(X_train, y_train, eval_set=(X_valid, y_valid), use_best_model=True);"
   ]
  },
  {
   "cell_type": "code",
   "execution_count": 24,
   "id": "490a3f2b",
   "metadata": {
    "execution": {
     "iopub.execute_input": "2022-07-23T16:53:00.103175Z",
     "iopub.status.busy": "2022-07-23T16:53:00.102772Z",
     "iopub.status.idle": "2022-07-23T16:53:00.108392Z",
     "shell.execute_reply": "2022-07-23T16:53:00.107146Z"
    },
    "papermill": {
     "duration": 0.029644,
     "end_time": "2022-07-23T16:53:00.111857",
     "exception": false,
     "start_time": "2022-07-23T16:53:00.082213",
     "status": "completed"
    },
    "tags": []
   },
   "outputs": [
    {
     "name": "stdout",
     "output_type": "stream",
     "text": [
      "[0, 1, 2, 3, 4, 5, 6, 7, 8]\n"
     ]
    }
   ],
   "source": [
    "categorical_features = list(range(X.shape[1]))\n",
    "print(categorical_features)"
   ]
  },
  {
   "cell_type": "code",
   "execution_count": 25,
   "id": "762152ee",
   "metadata": {
    "execution": {
     "iopub.execute_input": "2022-07-23T16:53:00.153026Z",
     "iopub.status.busy": "2022-07-23T16:53:00.152642Z",
     "iopub.status.idle": "2022-07-23T16:53:37.602361Z",
     "shell.execute_reply": "2022-07-23T16:53:37.601123Z"
    },
    "papermill": {
     "duration": 37.473598,
     "end_time": "2022-07-23T16:53:37.605398",
     "exception": false,
     "start_time": "2022-07-23T16:53:00.131800",
     "status": "completed"
    },
    "tags": []
   },
   "outputs": [
    {
     "name": "stdout",
     "output_type": "stream",
     "text": [
      "Learning rate set to 0.069882\n",
      "0:\ttest: 0.5637606\tbest: 0.5637606 (0)\ttotal: 42.6ms\tremaining: 42.5s\n",
      "200:\ttest: 0.8955617\tbest: 0.8955872 (198)\ttotal: 6.91s\tremaining: 27.5s\n",
      "400:\ttest: 0.8973364\tbest: 0.8979162 (365)\ttotal: 14.7s\tremaining: 22s\n",
      "600:\ttest: 0.8972380\tbest: 0.8979162 (365)\ttotal: 22.4s\tremaining: 14.9s\n",
      "800:\ttest: 0.8977795\tbest: 0.8982895 (760)\ttotal: 29.8s\tremaining: 7.41s\n",
      "999:\ttest: 0.8975697\tbest: 0.8982895 (760)\ttotal: 37.1s\tremaining: 0us\n",
      "\n",
      "bestTest = 0.8982894616\n",
      "bestIteration = 760\n",
      "\n",
      "Shrink model to first 761 iterations.\n",
      "CPU times: user 2min 14s, sys: 6.15 s, total: 2min 20s\n",
      "Wall time: 37.4 s\n"
     ]
    },
    {
     "data": {
      "text/plain": [
       "<catboost.core.CatBoostClassifier at 0x7f33012abe10>"
      ]
     },
     "execution_count": 25,
     "metadata": {},
     "output_type": "execute_result"
    }
   ],
   "source": [
    "%%time\n",
    "\n",
    "params = {'loss_function':'Logloss',\n",
    "          'eval_metric':'AUC',\n",
    "          'cat_features': categorical_features,\n",
    "          'verbose':200,\n",
    "          'random_seed':1}\n",
    "catmodel_1 = CatBoostClassifier(**params)\n",
    "catmodel_1.fit(X_train, y_train, eval_set=(X_valid, y_valid), use_best_model=True);"
   ]
  },
  {
   "cell_type": "code",
   "execution_count": 26,
   "id": "77c66792",
   "metadata": {
    "execution": {
     "iopub.execute_input": "2022-07-23T16:53:37.647382Z",
     "iopub.status.busy": "2022-07-23T16:53:37.647006Z",
     "iopub.status.idle": "2022-07-23T16:56:41.551121Z",
     "shell.execute_reply": "2022-07-23T16:56:41.549844Z"
    },
    "papermill": {
     "duration": 183.946675,
     "end_time": "2022-07-23T16:56:41.572227",
     "exception": false,
     "start_time": "2022-07-23T16:53:37.625552",
     "status": "completed"
    },
    "tags": []
   },
   "outputs": [
    {
     "name": "stdout",
     "output_type": "stream",
     "text": [
      "Training on fold [0/4]\n",
      "0:\ttest: 0.5000000\tbest: 0.5000000 (0)\ttotal: 17.4ms\tremaining: 17.4s\n",
      "200:\ttest: 0.8938231\tbest: 0.8938231 (200)\ttotal: 7.69s\tremaining: 30.6s\n",
      "400:\ttest: 0.8976765\tbest: 0.8976765 (400)\ttotal: 17.1s\tremaining: 25.5s\n",
      "600:\ttest: 0.9011808\tbest: 0.9011808 (600)\ttotal: 26.3s\tremaining: 17.5s\n",
      "800:\ttest: 0.9023208\tbest: 0.9025750 (791)\ttotal: 35.4s\tremaining: 8.8s\n",
      "999:\ttest: 0.9031134\tbest: 0.9031268 (997)\ttotal: 44.6s\tremaining: 0us\n",
      "\n",
      "bestTest = 0.9031267986\n",
      "bestIteration = 997\n",
      "\n",
      "Training on fold [1/4]\n",
      "0:\ttest: 0.5000000\tbest: 0.5000000 (0)\ttotal: 12ms\tremaining: 12s\n",
      "200:\ttest: 0.8835559\tbest: 0.8840146 (166)\ttotal: 7.84s\tremaining: 31.2s\n",
      "400:\ttest: 0.8851675\tbest: 0.8851907 (399)\ttotal: 17.2s\tremaining: 25.7s\n",
      "600:\ttest: 0.8858301\tbest: 0.8858757 (597)\ttotal: 26.9s\tremaining: 17.9s\n",
      "800:\ttest: 0.8858879\tbest: 0.8861506 (758)\ttotal: 36.3s\tremaining: 9.01s\n",
      "999:\ttest: 0.8846742\tbest: 0.8861506 (758)\ttotal: 45.6s\tremaining: 0us\n",
      "\n",
      "bestTest = 0.8861505735\n",
      "bestIteration = 758\n",
      "\n",
      "Training on fold [2/4]\n",
      "0:\ttest: 0.5000000\tbest: 0.5000000 (0)\ttotal: 11.5ms\tremaining: 11.5s\n",
      "200:\ttest: 0.8805126\tbest: 0.8805126 (200)\ttotal: 8.11s\tremaining: 32.3s\n",
      "400:\ttest: 0.8864433\tbest: 0.8864433 (400)\ttotal: 17.6s\tremaining: 26.3s\n",
      "600:\ttest: 0.8888037\tbest: 0.8888059 (599)\ttotal: 27.3s\tremaining: 18.1s\n",
      "800:\ttest: 0.8905676\tbest: 0.8905837 (796)\ttotal: 36.9s\tremaining: 9.16s\n",
      "999:\ttest: 0.8921063\tbest: 0.8921063 (999)\ttotal: 46.5s\tremaining: 0us\n",
      "\n",
      "bestTest = 0.8921062933\n",
      "bestIteration = 999\n",
      "\n",
      "Training on fold [3/4]\n",
      "0:\ttest: 0.5000000\tbest: 0.5000000 (0)\ttotal: 11.6ms\tremaining: 11.6s\n",
      "200:\ttest: 0.8848750\tbest: 0.8848750 (200)\ttotal: 8.4s\tremaining: 33.4s\n",
      "400:\ttest: 0.8886395\tbest: 0.8886395 (400)\ttotal: 17.9s\tremaining: 26.8s\n",
      "600:\ttest: 0.8917459\tbest: 0.8917475 (599)\ttotal: 27.4s\tremaining: 18.2s\n",
      "800:\ttest: 0.8926586\tbest: 0.8928882 (763)\ttotal: 36.8s\tremaining: 9.14s\n",
      "999:\ttest: 0.8919993\tbest: 0.8928882 (763)\ttotal: 46.3s\tremaining: 0us\n",
      "\n",
      "bestTest = 0.892888207\n",
      "bestIteration = 763\n",
      "\n"
     ]
    }
   ],
   "source": [
    "from catboost import cv\n",
    "\n",
    "\n",
    "params = {'loss_function':'Logloss',\n",
    "          'eval_metric':'AUC',\n",
    "          'verbose':200,\n",
    "          'random_seed':1}\n",
    "\n",
    "total_train_data = Pool(data=X,\n",
    "                        label=y,\n",
    "                        cat_features = categorical_features)\n",
    "\n",
    "scores = cv(pool=total_train_data,\n",
    "            params=params,\n",
    "            fold_count = 4,\n",
    "            seed = 1,\n",
    "            shuffle = True,\n",
    "            stratified = True)"
   ]
  },
  {
   "cell_type": "code",
   "execution_count": 27,
   "id": "5623f254",
   "metadata": {
    "execution": {
     "iopub.execute_input": "2022-07-23T16:56:41.616708Z",
     "iopub.status.busy": "2022-07-23T16:56:41.615742Z",
     "iopub.status.idle": "2022-07-23T16:56:41.635320Z",
     "shell.execute_reply": "2022-07-23T16:56:41.634175Z"
    },
    "papermill": {
     "duration": 0.044126,
     "end_time": "2022-07-23T16:56:41.637805",
     "exception": false,
     "start_time": "2022-07-23T16:56:41.593679",
     "status": "completed"
    },
    "tags": []
   },
   "outputs": [
    {
     "data": {
      "text/html": [
       "<div>\n",
       "<style scoped>\n",
       "    .dataframe tbody tr th:only-of-type {\n",
       "        vertical-align: middle;\n",
       "    }\n",
       "\n",
       "    .dataframe tbody tr th {\n",
       "        vertical-align: top;\n",
       "    }\n",
       "\n",
       "    .dataframe thead th {\n",
       "        text-align: right;\n",
       "    }\n",
       "</style>\n",
       "<table border=\"1\" class=\"dataframe\">\n",
       "  <thead>\n",
       "    <tr style=\"text-align: right;\">\n",
       "      <th></th>\n",
       "      <th>Feature Id</th>\n",
       "      <th>Importances</th>\n",
       "    </tr>\n",
       "  </thead>\n",
       "  <tbody>\n",
       "    <tr>\n",
       "      <th>0</th>\n",
       "      <td>RESOURCE</td>\n",
       "      <td>18.750628</td>\n",
       "    </tr>\n",
       "    <tr>\n",
       "      <th>1</th>\n",
       "      <td>ROLE_DEPTNAME</td>\n",
       "      <td>16.786328</td>\n",
       "    </tr>\n",
       "    <tr>\n",
       "      <th>2</th>\n",
       "      <td>MGR_ID</td>\n",
       "      <td>14.595799</td>\n",
       "    </tr>\n",
       "    <tr>\n",
       "      <th>3</th>\n",
       "      <td>ROLE_ROLLUP_2</td>\n",
       "      <td>13.202792</td>\n",
       "    </tr>\n",
       "    <tr>\n",
       "      <th>4</th>\n",
       "      <td>ROLE_FAMILY_DESC</td>\n",
       "      <td>9.605044</td>\n",
       "    </tr>\n",
       "    <tr>\n",
       "      <th>5</th>\n",
       "      <td>ROLE_TITLE</td>\n",
       "      <td>7.989371</td>\n",
       "    </tr>\n",
       "    <tr>\n",
       "      <th>6</th>\n",
       "      <td>ROLE_ROLLUP_1</td>\n",
       "      <td>7.334323</td>\n",
       "    </tr>\n",
       "    <tr>\n",
       "      <th>7</th>\n",
       "      <td>ROLE_FAMILY</td>\n",
       "      <td>6.434995</td>\n",
       "    </tr>\n",
       "    <tr>\n",
       "      <th>8</th>\n",
       "      <td>ROLE_CODE</td>\n",
       "      <td>5.300720</td>\n",
       "    </tr>\n",
       "  </tbody>\n",
       "</table>\n",
       "</div>"
      ],
      "text/plain": [
       "         Feature Id  Importances\n",
       "0          RESOURCE    18.750628\n",
       "1     ROLE_DEPTNAME    16.786328\n",
       "2            MGR_ID    14.595799\n",
       "3     ROLE_ROLLUP_2    13.202792\n",
       "4  ROLE_FAMILY_DESC     9.605044\n",
       "5        ROLE_TITLE     7.989371\n",
       "6     ROLE_ROLLUP_1     7.334323\n",
       "7       ROLE_FAMILY     6.434995\n",
       "8         ROLE_CODE     5.300720"
      ]
     },
     "execution_count": 27,
     "metadata": {},
     "output_type": "execute_result"
    }
   ],
   "source": [
    "feature_imp = catmodel_1.get_feature_importance(prettified=True)\n",
    "feature_imp"
   ]
  },
  {
   "cell_type": "code",
   "execution_count": 28,
   "id": "7b565d21",
   "metadata": {
    "execution": {
     "iopub.execute_input": "2022-07-23T16:56:41.681886Z",
     "iopub.status.busy": "2022-07-23T16:56:41.681504Z",
     "iopub.status.idle": "2022-07-23T16:56:41.996345Z",
     "shell.execute_reply": "2022-07-23T16:56:41.995373Z"
    },
    "papermill": {
     "duration": 0.339662,
     "end_time": "2022-07-23T16:56:41.998591",
     "exception": false,
     "start_time": "2022-07-23T16:56:41.658929",
     "status": "completed"
    },
    "tags": []
   },
   "outputs": [
    {
     "data": {
      "text/plain": [
       "array([[0.24015058, 0.75984942],\n",
       "       [0.01379813, 0.98620187],\n",
       "       [0.00473392, 0.99526608],\n",
       "       ...,\n",
       "       [0.00732233, 0.99267767],\n",
       "       [0.05389825, 0.94610175],\n",
       "       [0.0096805 , 0.9903195 ]])"
      ]
     },
     "execution_count": 28,
     "metadata": {},
     "output_type": "execute_result"
    }
   ],
   "source": [
    "predictions=catmodel_1.predict_proba(X_test)\n",
    "predictions"
   ]
  },
  {
   "cell_type": "code",
   "execution_count": 29,
   "id": "9329a329",
   "metadata": {
    "execution": {
     "iopub.execute_input": "2022-07-23T16:56:42.043084Z",
     "iopub.status.busy": "2022-07-23T16:56:42.042364Z",
     "iopub.status.idle": "2022-07-23T16:56:42.094966Z",
     "shell.execute_reply": "2022-07-23T16:56:42.093787Z"
    },
    "papermill": {
     "duration": 0.077829,
     "end_time": "2022-07-23T16:56:42.097573",
     "exception": false,
     "start_time": "2022-07-23T16:56:42.019744",
     "status": "completed"
    },
    "tags": []
   },
   "outputs": [
    {
     "name": "stdout",
     "output_type": "stream",
     "text": [
      "95.58159404369584\n"
     ]
    }
   ],
   "source": [
    "print(catmodel_1.score(X_valid, y_valid)*100)"
   ]
  },
  {
   "cell_type": "code",
   "execution_count": 30,
   "id": "52f20f55",
   "metadata": {
    "execution": {
     "iopub.execute_input": "2022-07-23T16:56:42.142792Z",
     "iopub.status.busy": "2022-07-23T16:56:42.142135Z",
     "iopub.status.idle": "2022-07-23T16:56:42.555017Z",
     "shell.execute_reply": "2022-07-23T16:56:42.553784Z"
    },
    "papermill": {
     "duration": 0.438824,
     "end_time": "2022-07-23T16:56:42.557904",
     "exception": false,
     "start_time": "2022-07-23T16:56:42.119080",
     "status": "completed"
    },
    "tags": []
   },
   "outputs": [],
   "source": [
    "Predictive_Model = pd.DataFrame({\n",
    "        \"Id\": test['id'],\n",
    "        \"Action\": catmodel_1.predict(X_test)})\n",
    "Predictive_Model.to_csv('amazon_predict.csv', index=False)"
   ]
  },
  {
   "cell_type": "code",
   "execution_count": null,
   "id": "a04b2c21",
   "metadata": {
    "papermill": {
     "duration": 0.021152,
     "end_time": "2022-07-23T16:56:42.600910",
     "exception": false,
     "start_time": "2022-07-23T16:56:42.579758",
     "status": "completed"
    },
    "tags": []
   },
   "outputs": [],
   "source": []
  },
  {
   "cell_type": "code",
   "execution_count": null,
   "id": "46832c1d",
   "metadata": {
    "papermill": {
     "duration": 0.021527,
     "end_time": "2022-07-23T16:56:42.644682",
     "exception": false,
     "start_time": "2022-07-23T16:56:42.623155",
     "status": "completed"
    },
    "tags": []
   },
   "outputs": [],
   "source": []
  },
  {
   "cell_type": "code",
   "execution_count": null,
   "id": "c0be4f04",
   "metadata": {
    "papermill": {
     "duration": 0.020728,
     "end_time": "2022-07-23T16:56:42.686662",
     "exception": false,
     "start_time": "2022-07-23T16:56:42.665934",
     "status": "completed"
    },
    "tags": []
   },
   "outputs": [],
   "source": []
  },
  {
   "cell_type": "code",
   "execution_count": null,
   "id": "571670e3",
   "metadata": {
    "papermill": {
     "duration": 0.020661,
     "end_time": "2022-07-23T16:56:42.728325",
     "exception": false,
     "start_time": "2022-07-23T16:56:42.707664",
     "status": "completed"
    },
    "tags": []
   },
   "outputs": [],
   "source": []
  }
 ],
 "metadata": {
  "kernelspec": {
   "display_name": "Python 3",
   "language": "python",
   "name": "python3"
  },
  "language_info": {
   "codemirror_mode": {
    "name": "ipython",
    "version": 3
   },
   "file_extension": ".py",
   "mimetype": "text/x-python",
   "name": "python",
   "nbconvert_exporter": "python",
   "pygments_lexer": "ipython3",
   "version": "3.7.12"
  },
  "papermill": {
   "default_parameters": {},
   "duration": 249.210407,
   "end_time": "2022-07-23T16:56:43.571786",
   "environment_variables": {},
   "exception": null,
   "input_path": "__notebook__.ipynb",
   "output_path": "__notebook__.ipynb",
   "parameters": {},
   "start_time": "2022-07-23T16:52:34.361379",
   "version": "2.3.4"
  }
 },
 "nbformat": 4,
 "nbformat_minor": 5
}
